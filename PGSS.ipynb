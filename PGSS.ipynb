{
  "nbformat": 4,
  "nbformat_minor": 0,
  "metadata": {
    "colab": {
      "name": "PGSS.ipynb",
      "provenance": [],
      "collapsed_sections": [],
      "toc_visible": true
    },
    "kernelspec": {
      "name": "python3",
      "display_name": "Python 3"
    }
  },
  "cells": [
    {
      "cell_type": "markdown",
      "metadata": {
        "id": "HPtWx2VlVhmW",
        "colab_type": "text"
      },
      "source": [
        "In this script, we:\n",
        "\n",
        "1: Connect colab to our google drive\n",
        "\n",
        "2: Read a file from github as a raw file, intro a pandas data frame\n",
        "\n",
        "3: Summarize that data\n",
        "\n",
        "4: Read a file from google driver into a separate pandas data frame"
      ]
    },
    {
      "cell_type": "markdown",
      "metadata": {
        "id": "k79wUWlLYjxw",
        "colab_type": "text"
      },
      "source": [
        "# Connect Colab to our Google Drive.\n"
      ]
    },
    {
      "cell_type": "code",
      "metadata": {
        "id": "fFPve7IeT2mf",
        "colab_type": "code",
        "colab": {
          "base_uri": "https://localhost:8080/",
          "height": 125
        },
        "outputId": "b68047d0-97a2-4be2-9be6-ebbef6412c2c"
      },
      "source": [
        "from google.colab import drive\n",
        "drive.mount('/content/drive')"
      ],
      "execution_count": null,
      "outputs": [
        {
          "output_type": "stream",
          "text": [
            "Go to this URL in a browser: https://accounts.google.com/o/oauth2/auth?client_id=947318989803-6bn6qk8qdgf4n4g3pfee6491hc0brc4i.apps.googleusercontent.com&redirect_uri=urn%3aietf%3awg%3aoauth%3a2.0%3aoob&response_type=code&scope=email%20https%3a%2f%2fwww.googleapis.com%2fauth%2fdocs.test%20https%3a%2f%2fwww.googleapis.com%2fauth%2fdrive%20https%3a%2f%2fwww.googleapis.com%2fauth%2fdrive.photos.readonly%20https%3a%2f%2fwww.googleapis.com%2fauth%2fpeopleapi.readonly\n",
            "\n",
            "Enter your authorization code:\n",
            "··········\n",
            "Mounted at /content/drive\n"
          ],
          "name": "stdout"
        }
      ]
    },
    {
      "cell_type": "markdown",
      "metadata": {
        "id": "VcpN9rNnXFng",
        "colab_type": "text"
      },
      "source": [
        "# Read a file from a GitHub as a RAW file, into a pandas data frame."
      ]
    },
    {
      "cell_type": "code",
      "metadata": {
        "id": "BQRe-iNeV84f",
        "colab_type": "code",
        "colab": {}
      },
      "source": [
        "import pandas as pd\n",
        "ChicagoData = pd.read_csv('https://raw.githubusercontent.com/menonpg/covid19_Chicago/master/timeSeries_COVID19_Chicago.csv')"
      ],
      "execution_count": null,
      "outputs": []
    },
    {
      "cell_type": "markdown",
      "metadata": {
        "id": "R6_UAeeMYEbI",
        "colab_type": "text"
      },
      "source": [
        "# Summarize the above data."
      ]
    },
    {
      "cell_type": "code",
      "metadata": {
        "id": "spZXRuXKYPgq",
        "colab_type": "code",
        "colab": {
          "base_uri": "https://localhost:8080/",
          "height": 228
        },
        "outputId": "11a08d43-86ba-4948-f1ca-23e8ce9242ae"
      },
      "source": [
        "print(\"Min values by column \\n\" + str(ChicagoData.aggregate( 'min' )) + '\\n\\n')\n",
        "print(\"Max values by column \\n\" + str(ChicagoData.aggregate( 'max' )))"
      ],
      "execution_count": null,
      "outputs": [
        {
          "output_type": "stream",
          "text": [
            "Min values by column \n",
            "Cases            598\n",
            "Deaths             4\n",
            "Date      2020-03-24\n",
            "dtype: object\n",
            "\n",
            "\n",
            "Max values by column \n",
            "Cases          52813\n",
            "Deaths          2623\n",
            "Date      2020-07-02\n",
            "dtype: object\n"
          ],
          "name": "stdout"
        }
      ]
    },
    {
      "cell_type": "code",
      "metadata": {
        "id": "ChkdzFuac05Z",
        "colab_type": "code",
        "colab": {}
      },
      "source": [
        "ChicagoData.to_csv(\"timeSeries_COVID19_Chicago.csv\", index=False)\n",
        "\n",
        "ChicagoData.to_csv(\"/content/drive/My Drive/DATA/timeSeries_COVID19_Chicago.csv\", index=False)"
      ],
      "execution_count": null,
      "outputs": []
    },
    {
      "cell_type": "markdown",
      "metadata": {
        "id": "6ODIpAzoZo0K",
        "colab_type": "text"
      },
      "source": [
        "# Read a file from Google Drive into a separate data frame."
      ]
    },
    {
      "cell_type": "code",
      "metadata": {
        "id": "stLFN3zLeZKe",
        "colab_type": "code",
        "colab": {}
      },
      "source": [
        "import pandas as pd\n",
        "ChicagoData_fromDrive = pd.read_csv('/content/drive/My Drive/DATA/timeSeries_COVID19_Chicago.csv')\n"
      ],
      "execution_count": null,
      "outputs": []
    },
    {
      "cell_type": "code",
      "metadata": {
        "id": "mdJfQdgiegm2",
        "colab_type": "code",
        "colab": {
          "base_uri": "https://localhost:8080/",
          "height": 228
        },
        "outputId": "fdb85eae-dc59-4418-fef2-436a6dabc9e1"
      },
      "source": [
        "print(\"Min values by column \\n\" + str(ChicagoData_fromDrive.aggregate( 'min' )) + '\\n\\n')\n",
        "print(\"Max values by column \\n\" + str(ChicagoData_fromDrive.aggregate( 'max' )))\n"
      ],
      "execution_count": null,
      "outputs": [
        {
          "output_type": "stream",
          "text": [
            "Min values by column \n",
            "Cases            598\n",
            "Deaths             4\n",
            "Date      2020-03-24\n",
            "dtype: object\n",
            "\n",
            "\n",
            "Max values by column \n",
            "Cases          52813\n",
            "Deaths          2623\n",
            "Date      2020-07-02\n",
            "dtype: object\n"
          ],
          "name": "stdout"
        }
      ]
    }
  ]
}